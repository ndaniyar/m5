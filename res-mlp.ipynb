{
 "cells": [
  {
   "cell_type": "code",
   "execution_count": 1,
   "metadata": {},
   "outputs": [
    {
     "data": {
      "text/html": [
       "<style>.container { width:100% !important; }</style>"
      ],
      "text/plain": [
       "<IPython.core.display.HTML object>"
      ]
     },
     "metadata": {},
     "output_type": "display_data"
    }
   ],
   "source": [
    "from IPython.core.display import display, HTML\n",
    "display(HTML(\"<style>.container { width:100% !important; }</style>\"))"
   ]
  },
  {
   "cell_type": "code",
   "execution_count": 2,
   "metadata": {},
   "outputs": [],
   "source": [
    "%load_ext autotime"
   ]
  },
  {
   "cell_type": "code",
   "execution_count": 3,
   "metadata": {},
   "outputs": [
    {
     "name": "stdout",
     "output_type": "stream",
     "text": [
      "time: 1.62 s\n"
     ]
    }
   ],
   "source": [
    "import os\n",
    "import numpy as np\n",
    "\n",
    "import pandas as pd\n",
    "DF = pd.DataFrame\n",
    "\n",
    "import matplotlib\n",
    "import matplotlib.pyplot as plt\n",
    "matplotlib.rcParams['figure.figsize'] = [12, 4]\n",
    "\n",
    "from tqdm import tqdm"
   ]
  },
  {
   "cell_type": "code",
   "execution_count": 4,
   "metadata": {},
   "outputs": [
    {
     "name": "stdout",
     "output_type": "stream",
     "text": [
      "time: 1.04 s\n"
     ]
    }
   ],
   "source": [
    "import torch\n",
    "from torch import optim\n",
    "from nbeats_pytorch.model import NBeatsNet\n",
    "from torch.nn import functional as F"
   ]
  },
  {
   "cell_type": "markdown",
   "metadata": {},
   "source": [
    "# Generators, model, submission"
   ]
  },
  {
   "cell_type": "code",
   "execution_count": 16,
   "metadata": {},
   "outputs": [
    {
     "name": "stdout",
     "output_type": "stream",
     "text": [
      "time: 4.03 ms\n"
     ]
    }
   ],
   "source": [
    "def mk_train_gen(sa, TE, bcL, fcL, bs, es, align_monday):\n",
    "    TS = np.argmax(sa>0, 0)\n",
    "    if align_monday: \n",
    "        TS = (np.floor((TS+5)/7) * 7 + 2).astype(int)\n",
    "        \n",
    "    n_startpoints = (TE + 1 - bcL - TS).clip(min=0).astype(np.int)\n",
    "    if align_monday: \n",
    "        n_startpoints = (np.floor((n_startpoints-1)/7)+1).astype(np.int)\n",
    "    \n",
    "    cum_startpoints = np.hstack([0, n_startpoints.cumsum()])\n",
    "    \n",
    "    for i in range(es): \n",
    "        ii = np.random.randint(cum_startpoints[-1], size=bs)\n",
    "        jj = cum_startpoints.searchsorted(ii+1) - 1\n",
    "        kk = ii - cum_startpoints[jj]\n",
    "        if align_monday: \n",
    "            kk *= 7\n",
    "        kk += TS[jj]\n",
    "        #assert (kk + bcL <= TE).all()\n",
    "        #if align_monday: \n",
    "        #    assert (cal['wday'].iloc[kk] == 3).all()\n",
    "\n",
    "        samples = np.stack([sa[k:k+bcL+fcL, j] \n",
    "                            for k, j in zip(kk,jj)])\n",
    "        yield samples[:, :bcL], samples[:, bcL:]\n",
    "        \n",
    "def mk_val_gen(sa, TE, bcL, fcL, bs, es, shuffle):\n",
    "    ii = np.arange(sa.shape[1])\n",
    "    if shuffle: np.random.shuffle(ii)\n",
    "    for i in range(es):\n",
    "        if i*bs > len(ii): # end of epoch\n",
    "            break\n",
    "        yield (sa[TE-bcL:TE, ii[i*bs:i*bs+bs]].T, \n",
    "                sa[TE:TE+fcL, ii[i*bs:i*bs+bs]].T)"
   ]
  },
  {
   "cell_type": "code",
   "execution_count": 9,
   "metadata": {},
   "outputs": [
    {
     "name": "stdout",
     "output_type": "stream",
     "text": [
      "time: 2.82 ms\n"
     ]
    }
   ],
   "source": [
    "def mk_acc_submission(fc1, fc2, cols, fn, message=None):\n",
    "    output = DF(\n",
    "        np.vstack([fc1.T, fc2.T]), \n",
    "        index = [c+'_'+s for s in ['validation', 'evaluation']\n",
    "                             for c in cols], \n",
    "        columns = [f'F{i+1}' for i in range(28)]\n",
    "    )\n",
    "    output.index.name='id'\n",
    "    output.reset_index().to_csv(f'../output/{fn}.csv', index=False)\n",
    "    output.reset_index().to_csv(f'../output/{fn}.csv.gz', index=False, \n",
    "                                compression='gzip')\n",
    "    if message is not None:\n",
    "        print ('Submit? [yes/no]')\n",
    "        ans = input()\n",
    "        if ans == 'yes':\n",
    "            print ('submitting...')\n",
    "            cmd = 'kaggle competitions submit ' \\\n",
    "                    '-c m5-forecasting-accuracy ' \\\n",
    "                    f'-f ../output/{fn}.csv.gz -m \"{message}\"'\n",
    "            print (cmd)\n",
    "            import subprocess\n",
    "            return subprocess.check_output(cmd, shell=True)\n",
    "        else:\n",
    "            print ('do not submit')"
   ]
  },
  {
   "cell_type": "code",
   "execution_count": 49,
   "metadata": {},
   "outputs": [
    {
     "name": "stdout",
     "output_type": "stream",
     "text": [
      "time: 2.67 ms\n"
     ]
    }
   ],
   "source": [
    "class ResMLP(torch.nn.Module):\n",
    "    def __init__(self, n_input, n_output, n_hidden, n_layers, dropout):\n",
    "        super(ResMLP, self).__init__()\n",
    "        dims = [n_input] + [n_hidden] * (n_layers-1) + [n_output]\n",
    "        self.layers = [torch.nn.Linear(i, o) \n",
    "                           for i, o in zip(dims[:-1], dims[1:])]\n",
    "        self.dropout = dropout\n",
    "        \n",
    "        params = []\n",
    "        for l in self.layers:\n",
    "            params.extend(l.parameters())\n",
    "        self.parameters = torch.nn.ParameterList(params)\n",
    "        \n",
    "    def forward(self, x):\n",
    "        x0 = x\n",
    "        for i in range(len(self.layers)):\n",
    "            x = torch.nn.Dropout(self.dropout)(\n",
    "                    torch.nn.ReLU()(\n",
    "                        self.layers[i](x)\n",
    "                    )\n",
    "                )\n",
    "        return x0[:, -self.layers[-1].out_features:] + x\n",
    "        #return x0 + 0 * x  # reproduce simple forecast"
   ]
  },
  {
   "cell_type": "code",
   "execution_count": 27,
   "metadata": {},
   "outputs": [
    {
     "name": "stdout",
     "output_type": "stream",
     "text": [
      "time: 997 µs\n"
     ]
    }
   ],
   "source": [
    "def tttd(x):\n",
    "    return torch.tensor(x, dtype=torch.float).to(device)"
   ]
  },
  {
   "cell_type": "markdown",
   "metadata": {},
   "source": [
    "# Data Loading"
   ]
  },
  {
   "cell_type": "code",
   "execution_count": 7,
   "metadata": {},
   "outputs": [
    {
     "name": "stdout",
     "output_type": "stream",
     "text": [
      "time: 4.04 s\n"
     ]
    }
   ],
   "source": [
    "# Loading data\n",
    "sales = pd.read_feather('../data/m5-forecasting/sales.feather')\n",
    "inp_scale = sales.values.max(0)\n",
    "sa = sales.values / inp_scale[None, :]\n",
    "\n",
    "cal = pd.read_feather('../data/m5-forecasting/cal.feather')\n",
    "prices = pd.read_feather('../data/m5-forecasting/prices.feather')"
   ]
  },
  {
   "cell_type": "markdown",
   "metadata": {},
   "source": [
    "# Params"
   ]
  },
  {
   "cell_type": "code",
   "execution_count": 67,
   "metadata": {
    "scrolled": true
   },
   "outputs": [
    {
     "name": "stdout",
     "output_type": "stream",
     "text": [
      "time: 1.78 ms\n"
     ]
    }
   ],
   "source": [
    "# Data preprocessing params\n",
    "fcL = 28\n",
    "bcL = 1 * fcL\n",
    "align_monday = True\n",
    "\n",
    "# Model params\n",
    "n_hidden = 200\n",
    "n_layers = 3\n",
    "dropout = 0.3\n",
    "\n",
    "# Training params\n",
    "trn_bs = 1000\n",
    "trn_es = 100\n",
    "\n",
    "val_bs = 1000\n",
    "val_es = 33 # val_bs * val_es > dataset\n",
    "\n",
    "lr = 1e-3\n",
    "epochs = 150\n",
    "\n",
    "# Runtime params\n",
    "device = torch.device(\"cuda:0\" if torch.cuda.is_available() else \"cpu\")"
   ]
  },
  {
   "cell_type": "code",
   "execution_count": 68,
   "metadata": {},
   "outputs": [
    {
     "name": "stdout",
     "output_type": "stream",
     "text": [
      "time: 876 µs\n"
     ]
    }
   ],
   "source": [
    "# Derived params\n",
    "DE = len(sa)  # Data End\n",
    "TE = DE - fcL  # Train period End"
   ]
  },
  {
   "cell_type": "markdown",
   "metadata": {},
   "source": [
    "# Training"
   ]
  },
  {
   "cell_type": "code",
   "execution_count": 69,
   "metadata": {},
   "outputs": [
    {
     "name": "stdout",
     "output_type": "stream",
     "text": [
      "time: 4.39 ms\n"
     ]
    }
   ],
   "source": [
    "model = ResMLP(bcL, fcL, n_hidden, n_layers, dropout)\n",
    "loss_fn = torch.nn.MSELoss()\n",
    "optimizer = torch.optim.SGD(model.parameters(), lr = lr)"
   ]
  },
  {
   "cell_type": "code",
   "execution_count": 70,
   "metadata": {},
   "outputs": [
    {
     "name": "stdout",
     "output_type": "stream",
     "text": [
      "time: 832 µs\n"
     ]
    }
   ],
   "source": [
    "trn_loss = []\n",
    "val_loss = []"
   ]
  },
  {
   "cell_type": "code",
   "execution_count": 71,
   "metadata": {},
   "outputs": [
    {
     "name": "stderr",
     "output_type": "stream",
     "text": [
      "100%|██████████| 150/150 [04:21<00:00,  1.74s/it]"
     ]
    },
    {
     "name": "stdout",
     "output_type": "stream",
     "text": [
      "time: 4min 21s\n"
     ]
    },
    {
     "name": "stderr",
     "output_type": "stream",
     "text": [
      "\n"
     ]
    }
   ],
   "source": [
    "for epoch in tqdm(range(epochs)):\n",
    "    \n",
    "    model.train()\n",
    "    batch_loss = []\n",
    "    trn_gen = mk_train_gen(sa, TE, bcL, fcL, trn_bs, trn_es, align_monday)\n",
    "    for x, y in trn_gen:\n",
    "        yh = model(tttd(x))\n",
    "        loss = loss_fn(yh, tttd(y))\n",
    "        batch_loss += [loss.item()]\n",
    "        optimizer.zero_grad()\n",
    "        loss.backward()\n",
    "        optimizer.step()\n",
    "    trn_loss += [np.mean(batch_loss)]\n",
    "        \n",
    "    model.eval()\n",
    "    batch_loss = []\n",
    "    val_gen = mk_val_gen(sa, TE, bcL, fcL, val_bs, val_es, False)\n",
    "    for x, y in val_gen:\n",
    "        yh = model(tttd(x))\n",
    "        loss = loss_fn(yh, tttd(y))\n",
    "        batch_loss += [loss.item()]\n",
    "    val_loss += [np.mean(batch_loss)]\n",
    "        "
   ]
  },
  {
   "cell_type": "code",
   "execution_count": 72,
   "metadata": {},
   "outputs": [
    {
     "data": {
      "text/plain": [
       "(0.02956670954823494, 0.033500375406396006)"
      ]
     },
     "execution_count": 72,
     "metadata": {},
     "output_type": "execute_result"
    },
    {
     "data": {
      "image/png": "[encoded data removed]",
      "text/plain": [
       "<Figure size 864x288 with 1 Axes>"
      ]
     },
     "metadata": {
      "needs_background": "light"
     },
     "output_type": "display_data"
    },
    {
     "name": "stdout",
     "output_type": "stream",
     "text": [
      "time: 277 ms\n"
     ]
    }
   ],
   "source": [
    "plt.plot(trn_loss)\n",
    "plt.plot(val_loss)\n",
    "trn_loss[-1], val_loss[-1]"
   ]
  },
  {
   "cell_type": "code",
   "execution_count": 66,
   "metadata": {},
   "outputs": [
    {
     "data": {
      "text/plain": [
       "(0.029923066720366476, 0.033886062401917674)"
      ]
     },
     "execution_count": 66,
     "metadata": {},
     "output_type": "execute_result"
    },
    {
     "data": {
      "image/png": "[encoded data removed]",
      "text/plain": [
       "<Figure size 864x288 with 1 Axes>"
      ]
     },
     "metadata": {
      "needs_background": "light"
     },
     "output_type": "display_data"
    },
    {
     "name": "stdout",
     "output_type": "stream",
     "text": [
      "time: 362 ms\n"
     ]
    }
   ],
   "source": [
    "plt.plot(trn_loss)\n",
    "plt.plot(val_loss)\n",
    "trn_loss[-1], val_loss[-1]"
   ]
  },
  {
   "cell_type": "code",
   "execution_count": 59,
   "metadata": {},
   "outputs": [
    {
     "data": {
      "text/plain": [
       "(0.030128711462020875, 0.03404588678911809)"
      ]
     },
     "execution_count": 59,
     "metadata": {},
     "output_type": "execute_result"
    },
    {
     "data": {
      "image/png": "[encoded data removed]",
      "text/plain": [
       "<Figure size 864x288 with 1 Axes>"
      ]
     },
     "metadata": {
      "needs_background": "light"
     },
     "output_type": "display_data"
    },
    {
     "name": "stdout",
     "output_type": "stream",
     "text": [
      "time: 270 ms\n"
     ]
    }
   ],
   "source": [
    "plt.plot(trn_loss)\n",
    "plt.plot(val_loss)\n",
    "trn_loss[-1], val_loss[-1]"
   ]
  },
  {
   "cell_type": "code",
   "execution_count": 44,
   "metadata": {},
   "outputs": [
    {
     "data": {
      "text/plain": [
       "(0.03126842584460974, 0.03534523007129469)"
      ]
     },
     "execution_count": 44,
     "metadata": {},
     "output_type": "execute_result"
    },
    {
     "data": {
      "image/png": "[encoded data removed]",
      "text/plain": [
       "<Figure size 864x288 with 1 Axes>"
      ]
     },
     "metadata": {
      "needs_background": "light"
     },
     "output_type": "display_data"
    },
    {
     "name": "stdout",
     "output_type": "stream",
     "text": [
      "time: 277 ms\n"
     ]
    }
   ],
   "source": [
    "plt.plot(trn_loss)\n",
    "plt.plot(val_loss)\n",
    "trn_loss[-1], val_loss[-1]"
   ]
  },
  {
   "cell_type": "code",
   "execution_count": 33,
   "metadata": {},
   "outputs": [
    {
     "data": {
      "text/plain": [
       "(0.029061670023947953, 0.03336747098834284)"
      ]
     },
     "execution_count": 33,
     "metadata": {},
     "output_type": "execute_result"
    },
    {
     "data": {
      "image/png": "[encoded data removed]",
      "text/plain": [
       "<Figure size 864x288 with 1 Axes>"
      ]
     },
     "metadata": {
      "needs_background": "light"
     },
     "output_type": "display_data"
    },
    {
     "name": "stdout",
     "output_type": "stream",
     "text": [
      "time: 222 ms\n"
     ]
    }
   ],
   "source": [
    "plt.plot(trn_loss)\n",
    "plt.plot(val_loss)\n",
    "trn_loss[-1], val_loss[-1]"
   ]
  },
  {
   "cell_type": "code",
   "execution_count": 73,
   "metadata": {},
   "outputs": [
    {
     "name": "stdout",
     "output_type": "stream",
     "text": [
      "time: 243 ms\n"
     ]
    }
   ],
   "source": [
    "tst_gen = mk_val_gen(sa, DE, bcL, fcL, val_bs, 99999, False)\n",
    "fc = []\n",
    "for x, y in tst_gen:\n",
    "    yh = model(tttd(x))\n",
    "    fc += [yh.data.numpy()]\n",
    "fc = np.vstack(fc).T    "
   ]
  },
  {
   "cell_type": "code",
   "execution_count": 75,
   "metadata": {},
   "outputs": [
    {
     "name": "stdout",
     "output_type": "stream",
     "text": [
      "Submit? [yes/no]\n",
      "yes\n",
      "submitting...\n",
      "kaggle competitions submit -c m5-forecasting-accuracy -f ../output/2-mlp-test.csv.gz -m \"Does rounding improve the score?\"\n"
     ]
    },
    {
     "data": {
      "text/plain": [
       "b'Successfully submitted to M5 Forecasting - Accuracy'"
      ]
     },
     "execution_count": 75,
     "metadata": {},
     "output_type": "execute_result"
    },
    {
     "name": "stdout",
     "output_type": "stream",
     "text": [
      "time: 17.9 s\n"
     ]
    }
   ],
   "source": [
    "mk_acc_submission(np.round(fc*inp_scale, 0), fc*0, sales.columns, \n",
    "                  '2-mlp-test', \n",
    "                  'Does rounding improve the score?'\n",
    "                 )"
   ]
  },
  {
   "cell_type": "code",
   "execution_count": null,
   "metadata": {},
   "outputs": [],
   "source": []
  }
 ],
 "metadata": {
  "kernelspec": {
   "display_name": "Python 3",
   "language": "python",
   "name": "python3"
  },
  "language_info": {
   "codemirror_mode": {
    "name": "ipython",
    "version": 3
   },
   "file_extension": ".py",
   "mimetype": "text/x-python",
   "name": "python",
   "nbconvert_exporter": "python",
   "pygments_lexer": "ipython3",
   "version": "3.8.2"
  }
 },
 "nbformat": 4,
 "nbformat_minor": 4
}
